{
 "cells": [
  {
   "cell_type": "markdown",
   "metadata": {},
   "source": [
    "# Facial Emotion Recogination"
   ]
  },
  {
   "cell_type": "markdown",
   "metadata": {},
   "source": [
    "Importing libraries"
   ]
  },
  {
   "cell_type": "code",
   "execution_count": 1,
   "metadata": {},
   "outputs": [],
   "source": [
    "import numpy as np\n",
    "import pandas as pd\n",
    "import os\n",
    "import tensorflow as tf\n",
    "from keras.preprocessing.image import ImageDataGenerator, load_img\n",
    "from keras.models import load_model, save_model\n",
    "from keras.layers import Conv2D, Dense, BatchNormalization, Activation, Dropout, MaxPooling2D, Flatten\n",
    "from keras.optimizers import Adam, RMSprop, SGD\n",
    "from keras import regularizers\n",
    "from keras.callbacks import ModelCheckpoint, TensorBoard, ReduceLROnPlateau\n",
    "import datetime\n",
    "import matplotlib.pyplot as plt\n",
    "from keras.utils import plot_model\n",
    "\n",
    "from keras.callbacks import CSVLogger, ModelCheckpoint, EarlyStopping\n",
    "from sklearn.model_selection import train_test_split\n",
    "from keras.layers import Activation, Convolution2D, Dropout, Conv2D\n",
    "from keras.layers import AveragePooling2D\n",
    "from keras.layers import GlobalAveragePooling2D\n",
    "from keras.models import Sequential\n",
    "from keras.layers import Flatten\n",
    "from keras.models import Model\n",
    "from keras.layers import Input\n",
    "from keras.layers import MaxPooling2D\n",
    "from keras.layers import SeparableConv2D\n",
    "from keras import layers\n",
    "from keras.regularizers import l2\n",
    "import cv2"
   ]
  },
  {
   "cell_type": "markdown",
   "metadata": {},
   "source": [
    "Importing Dataset"
   ]
  },
  {
   "cell_type": "code",
   "execution_count": 2,
   "metadata": {},
   "outputs": [
    {
     "name": "stdout",
     "output_type": "stream",
     "text": [
      "       angry  happy  neutral\n",
      "train   3860   6722     4648\n",
      "      angry  happy  neutral\n",
      "test    907   1621     1101\n"
     ]
    }
   ],
   "source": [
    "train_dir = 'fer2013/modified/train/'\n",
    "test_dir = 'fer2013/modified/test/'\n",
    "\n",
    "row, col = 48, 48\n",
    "classes = 3\n",
    "\n",
    "def count_exp(path, set_):\n",
    "    dict_ = {}\n",
    "    for expression in os.listdir(path):\n",
    "        dir_ = path + expression\n",
    "        dict_[expression] = len(os.listdir(dir_))\n",
    "    df = pd.DataFrame(dict_, index=[set_])\n",
    "    return df\n",
    "train_count = count_exp(train_dir, 'train')\n",
    "test_count = count_exp(test_dir, 'test')\n",
    "print(train_count)\n",
    "print(test_count)"
   ]
  },
  {
   "cell_type": "markdown",
   "metadata": {},
   "source": [
    "Creating Training and Test sets"
   ]
  },
  {
   "cell_type": "code",
   "execution_count": 3,
   "metadata": {},
   "outputs": [
    {
     "name": "stdout",
     "output_type": "stream",
     "text": [
      "Found 15230 images belonging to 3 classes.\n",
      "Found 3629 images belonging to 3 classes.\n"
     ]
    }
   ],
   "source": [
    "train_datagen = ImageDataGenerator(rescale=1./255,\n",
    "                                   zoom_range=0.3,\n",
    "                                   horizontal_flip=True)\n",
    "\n",
    "training_set = train_datagen.flow_from_directory(train_dir,\n",
    "                                                batch_size=64,\n",
    "                                                target_size=(48,48),\n",
    "                                                shuffle=True,\n",
    "                                                color_mode='grayscale',\n",
    "                                                class_mode='categorical')\n",
    "\n",
    "test_datagen = ImageDataGenerator(rescale=1./255)\n",
    "test_set = test_datagen.flow_from_directory(test_dir,\n",
    "                                                batch_size=64,\n",
    "                                                target_size=(48,48),\n",
    "                                                shuffle=True,\n",
    "                                                color_mode='grayscale',\n",
    "                                                class_mode='categorical')"
   ]
  },
  {
   "cell_type": "code",
   "execution_count": 4,
   "metadata": {},
   "outputs": [
    {
     "data": {
      "text/plain": [
       "{'angry': 0, 'happy': 1, 'neutral': 2}"
      ]
     },
     "execution_count": 4,
     "metadata": {},
     "output_type": "execute_result"
    }
   ],
   "source": [
    "training_set.class_indices"
   ]
  },
  {
   "cell_type": "markdown",
   "metadata": {},
   "source": [
    "Defining Model"
   ]
  },
  {
   "cell_type": "code",
   "execution_count": 5,
   "metadata": {},
   "outputs": [],
   "source": [
    "\n",
    "# parameters\n",
    "# batch_size = 64\n",
    "# num_epochs = 10 #110\n",
    "input_shape = (48, 48, 1)\n",
    "# verbose = 1\n",
    "num_classes = 3 # 7\n",
    "# patience = 50\n",
    "# base_path = 'models_0_2/'\n",
    "l2_regularization=0.01\n",
    "\n",
    "# # data generator\n",
    "# data_generator = ImageDataGenerator(\n",
    "#                         featurewise_center=False,\n",
    "#                         featurewise_std_normalization=False,\n",
    "#                         rotation_range=10,\n",
    "#                         width_shift_range=0.1,\n",
    "#                         height_shift_range=0.1,\n",
    "#                         zoom_range=.1,\n",
    "#                         horizontal_flip=True)\n",
    " \n",
    "# model parameters\n",
    "regularization = l2(l2_regularization)\n",
    " \n",
    "# base\n",
    "img_input = Input(input_shape)\n",
    "x = Conv2D(8, (3, 3), strides=(1, 1), kernel_regularizer=regularization, use_bias=False)(img_input)\n",
    "x = BatchNormalization()(x)\n",
    "x = Activation('relu')(x)\n",
    "x = Conv2D(8, (3, 3), strides=(1, 1), kernel_regularizer=regularization, use_bias=False)(x)\n",
    "x = BatchNormalization()(x)\n",
    "x = Activation('relu')(x)\n",
    " \n",
    "# module 1\n",
    "residual = Conv2D(16, (1, 1), strides=(2, 2), padding='same', use_bias=False)(x)\n",
    "residual = BatchNormalization()(residual)\n",
    "x = SeparableConv2D(16, (3, 3), padding='same', kernel_regularizer=regularization, use_bias=False)(x)\n",
    "x = BatchNormalization()(x)\n",
    "x = Activation('relu')(x)\n",
    "x = SeparableConv2D(16, (3, 3), padding='same', kernel_regularizer=regularization, use_bias=False)(x)\n",
    "x = BatchNormalization()(x)\n",
    "x = MaxPooling2D((3, 3), strides=(2, 2), padding='same')(x)\n",
    "x = layers.add([x, residual])\n",
    " \n",
    "# module 2\n",
    "residual = Conv2D(32, (1, 1), strides=(2, 2), padding='same', use_bias=False)(x)\n",
    "residual = BatchNormalization()(residual)\n",
    "x = SeparableConv2D(32, (3, 3), padding='same', kernel_regularizer=regularization, use_bias=False)(x)\n",
    "x = BatchNormalization()(x)\n",
    "x = Activation('relu')(x)\n",
    "x = SeparableConv2D(32, (3, 3), padding='same', kernel_regularizer=regularization, use_bias=False)(x)\n",
    "x = BatchNormalization()(x)\n",
    "x = MaxPooling2D((3, 3), strides=(2, 2), padding='same')(x)\n",
    "x = layers.add([x, residual])\n",
    " \n",
    "# module 3\n",
    "residual = Conv2D(64, (1, 1), strides=(2, 2),padding='same', use_bias=False)(x)\n",
    "residual = BatchNormalization()(residual)\n",
    "x = SeparableConv2D(64, (3, 3), padding='same',kernel_regularizer=regularization,use_bias=False)(x)\n",
    "x = BatchNormalization()(x)\n",
    "x = Activation('relu')(x)\n",
    "x = SeparableConv2D(64, (3, 3), padding='same',kernel_regularizer=regularization,use_bias=False)(x)\n",
    "x = BatchNormalization()(x)\n",
    "x = MaxPooling2D((3, 3), strides=(2, 2), padding='same')(x)\n",
    "x = layers.add([x, residual])\n",
    " \n",
    "# module 4\n",
    "residual = Conv2D(128, (1, 1), strides=(2, 2),padding='same', use_bias=False)(x)\n",
    "residual = BatchNormalization()(residual)\n",
    "x = SeparableConv2D(128, (3, 3), padding='same',kernel_regularizer=regularization,use_bias=False)(x)\n",
    "x = BatchNormalization()(x)\n",
    "x = Activation('relu')(x)\n",
    "x = SeparableConv2D(128, (3, 3), padding='same',kernel_regularizer=regularization,use_bias=False)(x)\n",
    "x = BatchNormalization()(x)\n",
    "x = MaxPooling2D((3, 3), strides=(2, 2), padding='same')(x)\n",
    "x = layers.add([x, residual])\n",
    "x = Conv2D(num_classes, (3, 3), padding='same')(x)\n",
    "x = GlobalAveragePooling2D()(x)\n",
    "output = Activation('softmax',name='predictions')(x)"
   ]
  },
  {
   "cell_type": "code",
   "execution_count": 6,
   "metadata": {
    "scrolled": true
   },
   "outputs": [
    {
     "name": "stdout",
     "output_type": "stream",
     "text": [
      "Model: \"model\"\n",
      "__________________________________________________________________________________________________\n",
      "Layer (type)                    Output Shape         Param #     Connected to                     \n",
      "==================================================================================================\n",
      "input_1 (InputLayer)            [(None, 48, 48, 1)]  0                                            \n",
      "__________________________________________________________________________________________________\n",
      "conv2d (Conv2D)                 (None, 46, 46, 8)    72          input_1[0][0]                    \n",
      "__________________________________________________________________________________________________\n",
      "batch_normalization (BatchNorma (None, 46, 46, 8)    32          conv2d[0][0]                     \n",
      "__________________________________________________________________________________________________\n",
      "activation (Activation)         (None, 46, 46, 8)    0           batch_normalization[0][0]        \n",
      "__________________________________________________________________________________________________\n",
      "conv2d_1 (Conv2D)               (None, 44, 44, 8)    576         activation[0][0]                 \n",
      "__________________________________________________________________________________________________\n",
      "batch_normalization_1 (BatchNor (None, 44, 44, 8)    32          conv2d_1[0][0]                   \n",
      "__________________________________________________________________________________________________\n",
      "activation_1 (Activation)       (None, 44, 44, 8)    0           batch_normalization_1[0][0]      \n",
      "__________________________________________________________________________________________________\n",
      "separable_conv2d (SeparableConv (None, 44, 44, 16)   200         activation_1[0][0]               \n",
      "__________________________________________________________________________________________________\n",
      "batch_normalization_3 (BatchNor (None, 44, 44, 16)   64          separable_conv2d[0][0]           \n",
      "__________________________________________________________________________________________________\n",
      "activation_2 (Activation)       (None, 44, 44, 16)   0           batch_normalization_3[0][0]      \n",
      "__________________________________________________________________________________________________\n",
      "separable_conv2d_1 (SeparableCo (None, 44, 44, 16)   400         activation_2[0][0]               \n",
      "__________________________________________________________________________________________________\n",
      "batch_normalization_4 (BatchNor (None, 44, 44, 16)   64          separable_conv2d_1[0][0]         \n",
      "__________________________________________________________________________________________________\n",
      "conv2d_2 (Conv2D)               (None, 22, 22, 16)   128         activation_1[0][0]               \n",
      "__________________________________________________________________________________________________\n",
      "max_pooling2d (MaxPooling2D)    (None, 22, 22, 16)   0           batch_normalization_4[0][0]      \n",
      "__________________________________________________________________________________________________\n",
      "batch_normalization_2 (BatchNor (None, 22, 22, 16)   64          conv2d_2[0][0]                   \n",
      "__________________________________________________________________________________________________\n",
      "add (Add)                       (None, 22, 22, 16)   0           max_pooling2d[0][0]              \n",
      "                                                                 batch_normalization_2[0][0]      \n",
      "__________________________________________________________________________________________________\n",
      "separable_conv2d_2 (SeparableCo (None, 22, 22, 32)   656         add[0][0]                        \n",
      "__________________________________________________________________________________________________\n",
      "batch_normalization_6 (BatchNor (None, 22, 22, 32)   128         separable_conv2d_2[0][0]         \n",
      "__________________________________________________________________________________________________\n",
      "activation_3 (Activation)       (None, 22, 22, 32)   0           batch_normalization_6[0][0]      \n",
      "__________________________________________________________________________________________________\n",
      "separable_conv2d_3 (SeparableCo (None, 22, 22, 32)   1312        activation_3[0][0]               \n",
      "__________________________________________________________________________________________________\n",
      "batch_normalization_7 (BatchNor (None, 22, 22, 32)   128         separable_conv2d_3[0][0]         \n",
      "__________________________________________________________________________________________________\n",
      "conv2d_3 (Conv2D)               (None, 11, 11, 32)   512         add[0][0]                        \n",
      "__________________________________________________________________________________________________\n",
      "max_pooling2d_1 (MaxPooling2D)  (None, 11, 11, 32)   0           batch_normalization_7[0][0]      \n",
      "__________________________________________________________________________________________________\n",
      "batch_normalization_5 (BatchNor (None, 11, 11, 32)   128         conv2d_3[0][0]                   \n",
      "__________________________________________________________________________________________________\n",
      "add_1 (Add)                     (None, 11, 11, 32)   0           max_pooling2d_1[0][0]            \n",
      "                                                                 batch_normalization_5[0][0]      \n",
      "__________________________________________________________________________________________________\n",
      "separable_conv2d_4 (SeparableCo (None, 11, 11, 64)   2336        add_1[0][0]                      \n",
      "__________________________________________________________________________________________________\n",
      "batch_normalization_9 (BatchNor (None, 11, 11, 64)   256         separable_conv2d_4[0][0]         \n",
      "__________________________________________________________________________________________________\n",
      "activation_4 (Activation)       (None, 11, 11, 64)   0           batch_normalization_9[0][0]      \n",
      "__________________________________________________________________________________________________\n",
      "separable_conv2d_5 (SeparableCo (None, 11, 11, 64)   4672        activation_4[0][0]               \n",
      "__________________________________________________________________________________________________\n",
      "batch_normalization_10 (BatchNo (None, 11, 11, 64)   256         separable_conv2d_5[0][0]         \n",
      "__________________________________________________________________________________________________\n",
      "conv2d_4 (Conv2D)               (None, 6, 6, 64)     2048        add_1[0][0]                      \n",
      "__________________________________________________________________________________________________\n",
      "max_pooling2d_2 (MaxPooling2D)  (None, 6, 6, 64)     0           batch_normalization_10[0][0]     \n",
      "__________________________________________________________________________________________________\n",
      "batch_normalization_8 (BatchNor (None, 6, 6, 64)     256         conv2d_4[0][0]                   \n",
      "__________________________________________________________________________________________________\n",
      "add_2 (Add)                     (None, 6, 6, 64)     0           max_pooling2d_2[0][0]            \n",
      "                                                                 batch_normalization_8[0][0]      \n",
      "__________________________________________________________________________________________________\n",
      "separable_conv2d_6 (SeparableCo (None, 6, 6, 128)    8768        add_2[0][0]                      \n",
      "__________________________________________________________________________________________________\n",
      "batch_normalization_12 (BatchNo (None, 6, 6, 128)    512         separable_conv2d_6[0][0]         \n",
      "__________________________________________________________________________________________________\n",
      "activation_5 (Activation)       (None, 6, 6, 128)    0           batch_normalization_12[0][0]     \n",
      "__________________________________________________________________________________________________\n",
      "separable_conv2d_7 (SeparableCo (None, 6, 6, 128)    17536       activation_5[0][0]               \n",
      "__________________________________________________________________________________________________\n",
      "batch_normalization_13 (BatchNo (None, 6, 6, 128)    512         separable_conv2d_7[0][0]         \n",
      "__________________________________________________________________________________________________\n",
      "conv2d_5 (Conv2D)               (None, 3, 3, 128)    8192        add_2[0][0]                      \n",
      "__________________________________________________________________________________________________\n",
      "max_pooling2d_3 (MaxPooling2D)  (None, 3, 3, 128)    0           batch_normalization_13[0][0]     \n",
      "__________________________________________________________________________________________________\n",
      "batch_normalization_11 (BatchNo (None, 3, 3, 128)    512         conv2d_5[0][0]                   \n",
      "__________________________________________________________________________________________________\n",
      "add_3 (Add)                     (None, 3, 3, 128)    0           max_pooling2d_3[0][0]            \n",
      "                                                                 batch_normalization_11[0][0]     \n",
      "__________________________________________________________________________________________________\n",
      "conv2d_6 (Conv2D)               (None, 3, 3, 3)      3459        add_3[0][0]                      \n",
      "__________________________________________________________________________________________________\n",
      "global_average_pooling2d (Globa (None, 3)            0           conv2d_6[0][0]                   \n",
      "__________________________________________________________________________________________________\n",
      "predictions (Activation)        (None, 3)            0           global_average_pooling2d[0][0]   \n",
      "==================================================================================================\n",
      "Total params: 53,811\n",
      "Trainable params: 52,339\n",
      "Non-trainable params: 1,472\n",
      "__________________________________________________________________________________________________\n"
     ]
    }
   ],
   "source": [
    "model = Model(img_input, output)\n",
    "model.compile(optimizer='adam', loss='categorical_crossentropy',metrics=['accuracy'])\n",
    "model.summary()"
   ]
  },
  {
   "cell_type": "code",
   "execution_count": 7,
   "metadata": {},
   "outputs": [],
   "source": [
    "#!pip install pydot\n",
    "#!pip install graphviz\n",
    "#!pip install pydotplus\n",
    "#!pip install django-extensions\n",
    "#!pip install pyparsing"
   ]
  },
  {
   "cell_type": "code",
   "execution_count": 8,
   "metadata": {
    "scrolled": true
   },
   "outputs": [],
   "source": [
    "# plot_model(model, to_file='fernet.png', show_shapes=True, show_layer_names=True)"
   ]
  },
  {
   "cell_type": "markdown",
   "metadata": {},
   "source": [
    "Callbacks Function"
   ]
  },
  {
   "cell_type": "code",
   "execution_count": 9,
   "metadata": {},
   "outputs": [],
   "source": [
    "chk_path = 'models_0_2/{epoch:02d}-{val_accuracy:.2f}.h5'\n",
    "log_dir = \"models_0_2/logs/\" + datetime.datetime.now().strftime(\"%Y%m%d-%H%M%S\")\n",
    "\n",
    "checkpoint = ModelCheckpoint(filepath=chk_path,\n",
    "                             save_best_only=True,\n",
    "                             verbose=1,\n",
    "                             mode='min',\n",
    "                             moniter='val_loss')\n",
    "\n",
    "earlystop = EarlyStopping(monitor='val_loss', \n",
    "                          min_delta=0, \n",
    "                          patience=3, \n",
    "                          verbose=1, \n",
    "                          restore_best_weights=True)\n",
    "                        \n",
    "reduce_lr = ReduceLROnPlateau(monitor='val_loss', \n",
    "                              factor=0.2, \n",
    "                              patience=6, \n",
    "                              verbose=1, \n",
    "                              min_delta=0.0001)\n",
    "\n",
    "\n",
    "tensorboard_callback = tf.keras.callbacks.TensorBoard(log_dir=log_dir, histogram_freq=1)\n",
    "csv_logger = CSVLogger('training.log')\n",
    "\n",
    "callbacks = [checkpoint, reduce_lr, csv_logger]"
   ]
  },
  {
   "cell_type": "markdown",
   "metadata": {},
   "source": [
    "Training Model"
   ]
  },
  {
   "cell_type": "code",
   "execution_count": 10,
   "metadata": {},
   "outputs": [
    {
     "name": "stdout",
     "output_type": "stream",
     "text": [
      "Epoch 1/60\n",
      "237/237 [==============================] - 149s 612ms/step - loss: 1.2478 - accuracy: 0.4493 - val_loss: 1.1326 - val_accuracy: 0.4473\n",
      "\n",
      "Epoch 00001: val_loss improved from inf to 1.13258, saving model to models_0_2\\01-0.45.h5\n",
      "Epoch 2/60\n",
      "237/237 [==============================] - 153s 647ms/step - loss: 0.9839 - accuracy: 0.5761 - val_loss: 0.9583 - val_accuracy: 0.5667\n",
      "\n",
      "Epoch 00002: val_loss improved from 1.13258 to 0.95829, saving model to models_0_2\\02-0.57.h5\n",
      "Epoch 3/60\n",
      "237/237 [==============================] - 172s 727ms/step - loss: 0.8652 - accuracy: 0.6373 - val_loss: 0.7592 - val_accuracy: 0.6914\n",
      "\n",
      "Epoch 00003: val_loss improved from 0.95829 to 0.75922, saving model to models_0_2\\03-0.69.h5\n",
      "Epoch 4/60\n",
      "237/237 [==============================] - 179s 755ms/step - loss: 0.7853 - accuracy: 0.6807 - val_loss: 0.8482 - val_accuracy: 0.6518\n",
      "\n",
      "Epoch 00004: val_loss did not improve from 0.75922\n",
      "Epoch 5/60\n",
      "237/237 [==============================] - 195s 822ms/step - loss: 0.7325 - accuracy: 0.7035 - val_loss: 1.0661 - val_accuracy: 0.5689\n",
      "\n",
      "Epoch 00005: val_loss did not improve from 0.75922\n",
      "Epoch 6/60\n",
      "237/237 [==============================] - 160s 674ms/step - loss: 0.6982 - accuracy: 0.7123 - val_loss: 0.8222 - val_accuracy: 0.6797\n",
      "\n",
      "Epoch 00006: val_loss did not improve from 0.75922\n",
      "Epoch 7/60\n",
      "237/237 [==============================] - 164s 690ms/step - loss: 0.6773 - accuracy: 0.7296 - val_loss: 0.6531 - val_accuracy: 0.7316\n",
      "\n",
      "Epoch 00007: val_loss improved from 0.75922 to 0.65305, saving model to models_0_2\\07-0.73.h5\n",
      "Epoch 8/60\n",
      "237/237 [==============================] - 170s 715ms/step - loss: 0.6412 - accuracy: 0.7390 - val_loss: 0.7381 - val_accuracy: 0.7051\n",
      "\n",
      "Epoch 00008: val_loss did not improve from 0.65305\n",
      "Epoch 9/60\n",
      "237/237 [==============================] - 163s 686ms/step - loss: 0.6242 - accuracy: 0.7484 - val_loss: 0.8119 - val_accuracy: 0.6680\n",
      "\n",
      "Epoch 00009: val_loss did not improve from 0.65305\n",
      "Epoch 10/60\n",
      "237/237 [==============================] - 175s 739ms/step - loss: 0.6024 - accuracy: 0.7555 - val_loss: 0.9193 - val_accuracy: 0.6579\n",
      "\n",
      "Epoch 00010: val_loss did not improve from 0.65305\n",
      "Epoch 11/60\n",
      "237/237 [==============================] - 154s 649ms/step - loss: 0.5869 - accuracy: 0.7650 - val_loss: 0.8550 - val_accuracy: 0.6713\n",
      "\n",
      "Epoch 00011: val_loss did not improve from 0.65305\n",
      "Epoch 12/60\n",
      "237/237 [==============================] - 150s 631ms/step - loss: 0.5879 - accuracy: 0.7606 - val_loss: 0.6841 - val_accuracy: 0.7101\n",
      "\n",
      "Epoch 00012: val_loss did not improve from 0.65305\n",
      "Epoch 13/60\n",
      "237/237 [==============================] - 180s 760ms/step - loss: 0.5662 - accuracy: 0.7822 - val_loss: 0.6306 - val_accuracy: 0.7528\n",
      "\n",
      "Epoch 00013: val_loss improved from 0.65305 to 0.63060, saving model to models_0_2\\13-0.75.h5\n",
      "Epoch 14/60\n",
      "237/237 [==============================] - 182s 767ms/step - loss: 0.5593 - accuracy: 0.7812 - val_loss: 0.5198 - val_accuracy: 0.7891\n",
      "\n",
      "Epoch 00014: val_loss improved from 0.63060 to 0.51983, saving model to models_0_2\\14-0.79.h5\n",
      "Epoch 15/60\n",
      "237/237 [==============================] - 178s 749ms/step - loss: 0.5449 - accuracy: 0.7781 - val_loss: 0.6680 - val_accuracy: 0.7229\n",
      "\n",
      "Epoch 00015: val_loss did not improve from 0.51983\n",
      "Epoch 16/60\n",
      "237/237 [==============================] - 178s 749ms/step - loss: 0.5416 - accuracy: 0.7880 - val_loss: 0.6705 - val_accuracy: 0.7444\n",
      "\n",
      "Epoch 00016: val_loss did not improve from 0.51983\n",
      "Epoch 17/60\n",
      "237/237 [==============================] - 177s 746ms/step - loss: 0.5263 - accuracy: 0.7947 - val_loss: 0.5350 - val_accuracy: 0.7888\n",
      "\n",
      "Epoch 00017: val_loss did not improve from 0.51983\n",
      "Epoch 18/60\n",
      "237/237 [==============================] - 167s 706ms/step - loss: 0.5246 - accuracy: 0.7891 - val_loss: 0.5598 - val_accuracy: 0.7782\n",
      "\n",
      "Epoch 00018: val_loss did not improve from 0.51983\n",
      "Epoch 19/60\n",
      "237/237 [==============================] - 183s 771ms/step - loss: 0.5123 - accuracy: 0.8000 - val_loss: 0.5538 - val_accuracy: 0.7868\n",
      "\n",
      "Epoch 00019: val_loss did not improve from 0.51983\n",
      "Epoch 20/60\n",
      "237/237 [==============================] - 182s 766ms/step - loss: 0.5073 - accuracy: 0.8002 - val_loss: 0.5756 - val_accuracy: 0.7684\n",
      "\n",
      "Epoch 00020: val_loss did not improve from 0.51983\n",
      "\n",
      "Epoch 00020: ReduceLROnPlateau reducing learning rate to 0.00020000000949949026.\n",
      "Epoch 21/60\n",
      "237/237 [==============================] - 173s 730ms/step - loss: 0.4871 - accuracy: 0.8062 - val_loss: 0.4650 - val_accuracy: 0.8133\n",
      "\n",
      "Epoch 00021: val_loss improved from 0.51983 to 0.46503, saving model to models_0_2\\21-0.81.h5\n",
      "Epoch 22/60\n",
      "237/237 [==============================] - 158s 666ms/step - loss: 0.4737 - accuracy: 0.8121 - val_loss: 0.4608 - val_accuracy: 0.8145\n",
      "\n",
      "Epoch 00022: val_loss improved from 0.46503 to 0.46078, saving model to models_0_2\\22-0.81.h5\n",
      "Epoch 23/60\n",
      "237/237 [==============================] - 148s 624ms/step - loss: 0.4563 - accuracy: 0.8211 - val_loss: 0.4680 - val_accuracy: 0.8122\n",
      "\n",
      "Epoch 00023: val_loss did not improve from 0.46078\n",
      "Epoch 24/60\n",
      "237/237 [==============================] - 149s 627ms/step - loss: 0.4471 - accuracy: 0.8269 - val_loss: 0.4518 - val_accuracy: 0.8237\n",
      "\n",
      "Epoch 00024: val_loss improved from 0.46078 to 0.45180, saving model to models_0_2\\24-0.82.h5\n",
      "Epoch 25/60\n",
      "237/237 [==============================] - 151s 636ms/step - loss: 0.4566 - accuracy: 0.8162 - val_loss: 0.4795 - val_accuracy: 0.8039\n",
      "\n",
      "Epoch 00025: val_loss did not improve from 0.45180\n",
      "Epoch 26/60\n",
      "237/237 [==============================] - 149s 628ms/step - loss: 0.4517 - accuracy: 0.8240 - val_loss: 0.4740 - val_accuracy: 0.8105\n",
      "\n",
      "Epoch 00026: val_loss did not improve from 0.45180\n",
      "Epoch 27/60\n",
      "237/237 [==============================] - 148s 625ms/step - loss: 0.4550 - accuracy: 0.8206 - val_loss: 0.4572 - val_accuracy: 0.8220\n",
      "\n",
      "Epoch 00027: val_loss did not improve from 0.45180\n",
      "Epoch 28/60\n",
      "237/237 [==============================] - 149s 627ms/step - loss: 0.4278 - accuracy: 0.8285 - val_loss: 0.4680 - val_accuracy: 0.8158\n",
      "\n",
      "Epoch 00028: val_loss did not improve from 0.45180\n",
      "Epoch 29/60\n",
      "237/237 [==============================] - 167s 703ms/step - loss: 0.4534 - accuracy: 0.8228 - val_loss: 0.4588 - val_accuracy: 0.8153\n",
      "\n",
      "Epoch 00029: val_loss did not improve from 0.45180\n",
      "Epoch 30/60\n",
      "237/237 [==============================] - 168s 707ms/step - loss: 0.4400 - accuracy: 0.8266 - val_loss: 0.4543 - val_accuracy: 0.8203\n",
      "\n",
      "Epoch 00030: val_loss did not improve from 0.45180\n",
      "\n",
      "Epoch 00030: ReduceLROnPlateau reducing learning rate to 4.0000001899898055e-05.\n",
      "Epoch 31/60\n",
      "237/237 [==============================] - 155s 653ms/step - loss: 0.4314 - accuracy: 0.8330 - val_loss: 0.4513 - val_accuracy: 0.8189\n",
      "\n",
      "Epoch 00031: val_loss improved from 0.45180 to 0.45128, saving model to models_0_2\\31-0.82.h5\n",
      "Epoch 32/60\n",
      "237/237 [==============================] - 151s 637ms/step - loss: 0.4245 - accuracy: 0.8352 - val_loss: 0.4519 - val_accuracy: 0.8184\n",
      "\n",
      "Epoch 00032: val_loss did not improve from 0.45128\n",
      "Epoch 33/60\n",
      "237/237 [==============================] - 149s 629ms/step - loss: 0.4276 - accuracy: 0.8337 - val_loss: 0.4485 - val_accuracy: 0.8206\n",
      "\n",
      "Epoch 00033: val_loss improved from 0.45128 to 0.44848, saving model to models_0_2\\33-0.82.h5\n",
      "Epoch 34/60\n",
      "237/237 [==============================] - 150s 635ms/step - loss: 0.4270 - accuracy: 0.8371 - val_loss: 0.4513 - val_accuracy: 0.8217\n",
      "\n",
      "Epoch 00034: val_loss did not improve from 0.44848\n",
      "Epoch 35/60\n",
      "237/237 [==============================] - 153s 647ms/step - loss: 0.4276 - accuracy: 0.8359 - val_loss: 0.4504 - val_accuracy: 0.8206\n",
      "\n",
      "Epoch 00035: val_loss did not improve from 0.44848\n",
      "Epoch 36/60\n",
      "237/237 [==============================] - 147s 621ms/step - loss: 0.4218 - accuracy: 0.8350 - val_loss: 0.4479 - val_accuracy: 0.8237\n",
      "\n",
      "Epoch 00036: val_loss improved from 0.44848 to 0.44786, saving model to models_0_2\\36-0.82.h5\n",
      "Epoch 37/60\n",
      "237/237 [==============================] - 147s 622ms/step - loss: 0.4205 - accuracy: 0.8367 - val_loss: 0.4475 - val_accuracy: 0.8245\n",
      "\n",
      "Epoch 00037: val_loss improved from 0.44786 to 0.44751, saving model to models_0_2\\37-0.82.h5\n",
      "Epoch 38/60\n",
      "237/237 [==============================] - 151s 637ms/step - loss: 0.4440 - accuracy: 0.8277 - val_loss: 0.4470 - val_accuracy: 0.8262\n"
     ]
    },
    {
     "name": "stdout",
     "output_type": "stream",
     "text": [
      "\n",
      "Epoch 00038: val_loss improved from 0.44751 to 0.44696, saving model to models_0_2\\38-0.83.h5\n",
      "Epoch 39/60\n",
      "237/237 [==============================] - 149s 627ms/step - loss: 0.4243 - accuracy: 0.8363 - val_loss: 0.4488 - val_accuracy: 0.8245\n",
      "\n",
      "Epoch 00039: val_loss did not improve from 0.44696\n",
      "Epoch 40/60\n",
      "237/237 [==============================] - 147s 620ms/step - loss: 0.4209 - accuracy: 0.8360 - val_loss: 0.4436 - val_accuracy: 0.8259\n",
      "\n",
      "Epoch 00040: val_loss improved from 0.44696 to 0.44360, saving model to models_0_2\\40-0.83.h5\n",
      "Epoch 41/60\n",
      "237/237 [==============================] - 149s 630ms/step - loss: 0.4262 - accuracy: 0.8354 - val_loss: 0.4527 - val_accuracy: 0.8203\n",
      "\n",
      "Epoch 00041: val_loss did not improve from 0.44360\n",
      "Epoch 42/60\n",
      "237/237 [==============================] - 150s 632ms/step - loss: 0.4190 - accuracy: 0.8353 - val_loss: 0.4497 - val_accuracy: 0.8220\n",
      "\n",
      "Epoch 00042: val_loss did not improve from 0.44360\n",
      "Epoch 43/60\n",
      "237/237 [==============================] - 148s 624ms/step - loss: 0.4217 - accuracy: 0.8360 - val_loss: 0.4478 - val_accuracy: 0.8259\n",
      "\n",
      "Epoch 00043: val_loss did not improve from 0.44360\n",
      "Epoch 44/60\n",
      "237/237 [==============================] - 151s 637ms/step - loss: 0.4135 - accuracy: 0.8376 - val_loss: 0.4521 - val_accuracy: 0.8214\n",
      "\n",
      "Epoch 00044: val_loss did not improve from 0.44360\n",
      "Epoch 45/60\n",
      "237/237 [==============================] - 151s 637ms/step - loss: 0.4201 - accuracy: 0.8372 - val_loss: 0.4498 - val_accuracy: 0.8239\n",
      "\n",
      "Epoch 00045: val_loss did not improve from 0.44360\n",
      "Epoch 46/60\n",
      "237/237 [==============================] - 149s 630ms/step - loss: 0.4119 - accuracy: 0.8384 - val_loss: 0.4536 - val_accuracy: 0.8228\n",
      "\n",
      "Epoch 00046: val_loss did not improve from 0.44360\n",
      "\n",
      "Epoch 00046: ReduceLROnPlateau reducing learning rate to 8.000000525498762e-06.\n",
      "Epoch 47/60\n",
      "237/237 [==============================] - 147s 620ms/step - loss: 0.4146 - accuracy: 0.8395 - val_loss: 0.4466 - val_accuracy: 0.8248\n",
      "\n",
      "Epoch 00047: val_loss did not improve from 0.44360\n",
      "Epoch 48/60\n",
      "237/237 [==============================] - 149s 626ms/step - loss: 0.4145 - accuracy: 0.8419 - val_loss: 0.4470 - val_accuracy: 0.8225\n",
      "\n",
      "Epoch 00048: val_loss did not improve from 0.44360\n",
      "Epoch 49/60\n",
      "237/237 [==============================] - 150s 632ms/step - loss: 0.4165 - accuracy: 0.8356 - val_loss: 0.4496 - val_accuracy: 0.8217\n",
      "\n",
      "Epoch 00049: val_loss did not improve from 0.44360\n",
      "Epoch 50/60\n",
      "237/237 [==============================] - 148s 625ms/step - loss: 0.4185 - accuracy: 0.8384 - val_loss: 0.4458 - val_accuracy: 0.8256\n",
      "\n",
      "Epoch 00050: val_loss did not improve from 0.44360\n",
      "Epoch 51/60\n",
      "237/237 [==============================] - 148s 624ms/step - loss: 0.4123 - accuracy: 0.8382 - val_loss: 0.4478 - val_accuracy: 0.8242\n",
      "\n",
      "Epoch 00051: val_loss did not improve from 0.44360\n",
      "Epoch 52/60\n",
      "237/237 [==============================] - 151s 636ms/step - loss: 0.4194 - accuracy: 0.8350 - val_loss: 0.4444 - val_accuracy: 0.8259\n",
      "\n",
      "Epoch 00052: val_loss did not improve from 0.44360\n",
      "\n",
      "Epoch 00052: ReduceLROnPlateau reducing learning rate to 1.6000001778593287e-06.\n",
      "Epoch 53/60\n",
      "237/237 [==============================] - 168s 707ms/step - loss: 0.4190 - accuracy: 0.8347 - val_loss: 0.4482 - val_accuracy: 0.8256\n",
      "\n",
      "Epoch 00053: val_loss did not improve from 0.44360\n",
      "Epoch 54/60\n",
      "237/237 [==============================] - 171s 720ms/step - loss: 0.4252 - accuracy: 0.8374 - val_loss: 0.4480 - val_accuracy: 0.8242\n",
      "\n",
      "Epoch 00054: val_loss did not improve from 0.44360\n",
      "Epoch 55/60\n",
      "237/237 [==============================] - 162s 685ms/step - loss: 0.3939 - accuracy: 0.8460 - val_loss: 0.4479 - val_accuracy: 0.8245\n",
      "\n",
      "Epoch 00055: val_loss did not improve from 0.44360\n",
      "Epoch 56/60\n",
      "237/237 [==============================] - 155s 655ms/step - loss: 0.4184 - accuracy: 0.8348 - val_loss: 0.4480 - val_accuracy: 0.8234\n",
      "\n",
      "Epoch 00056: val_loss did not improve from 0.44360\n",
      "Epoch 57/60\n",
      "237/237 [==============================] - 159s 672ms/step - loss: 0.4229 - accuracy: 0.8312 - val_loss: 0.4438 - val_accuracy: 0.8259\n",
      "\n",
      "Epoch 00057: val_loss did not improve from 0.44360\n",
      "Epoch 58/60\n",
      "237/237 [==============================] - 165s 696ms/step - loss: 0.4183 - accuracy: 0.8374 - val_loss: 0.4486 - val_accuracy: 0.8234\n",
      "\n",
      "Epoch 00058: val_loss did not improve from 0.44360\n",
      "\n",
      "Epoch 00058: ReduceLROnPlateau reducing learning rate to 3.200000264769187e-07.\n",
      "Epoch 59/60\n",
      "237/237 [==============================] - 161s 680ms/step - loss: 0.4120 - accuracy: 0.8439 - val_loss: 0.4480 - val_accuracy: 0.8237\n",
      "\n",
      "Epoch 00059: val_loss did not improve from 0.44360\n",
      "Epoch 60/60\n",
      "237/237 [==============================] - 151s 638ms/step - loss: 0.4061 - accuracy: 0.8447 - val_loss: 0.4473 - val_accuracy: 0.8228\n",
      "\n",
      "Epoch 00060: val_loss did not improve from 0.44360\n"
     ]
    }
   ],
   "source": [
    "steps_per_epoch = training_set.n // training_set.batch_size\n",
    "validation_steps = test_set.n // test_set.batch_size\n",
    "\n",
    "model.compile(optimizer='rmsprop',\n",
    "              loss='categorical_crossentropy',\n",
    "              metrics=['accuracy'])\n",
    "hist = model.fit(x=training_set,\n",
    "                 validation_data=test_set,\n",
    "                 epochs=60,\n",
    "                 callbacks=callbacks,\n",
    "                 steps_per_epoch=steps_per_epoch,\n",
    "                 validation_steps=validation_steps)"
   ]
  },
  {
   "cell_type": "code",
   "execution_count": 11,
   "metadata": {},
   "outputs": [],
   "source": [
    "# from keras.utils.vis_utils import plot_model\n",
    "# plot_model(model, to_file='model_plot_0_2.png', show_shapes=True, show_layer_names=True)"
   ]
  },
  {
   "cell_type": "markdown",
   "metadata": {},
   "source": [
    "Loss and Accuracy plot"
   ]
  },
  {
   "cell_type": "code",
   "execution_count": 12,
   "metadata": {},
   "outputs": [
    {
     "data": {
      "image/png": "[encoded data removed]",
      "text/plain": [
       "<Figure size 1008x360 with 2 Axes>"
      ]
     },
     "metadata": {
      "needs_background": "light"
     },
     "output_type": "display_data"
    }
   ],
   "source": [
    "plt.figure(figsize=(14,5))\n",
    "plt.subplot(1,2,2)\n",
    "plt.plot(hist.history['accuracy'])\n",
    "plt.plot(hist.history['val_accuracy'])\n",
    "plt.title('Model Accuracy')\n",
    "plt.xlabel('Epochs')\n",
    "plt.ylabel('Accuracy')\n",
    "plt.legend(['train', 'test'], loc='upper left')\n",
    "\n",
    "plt.subplot(1,2,1)\n",
    "plt.plot(hist.history['loss'])\n",
    "plt.plot(hist.history['val_loss'])\n",
    "plt.title('model Loss')\n",
    "plt.xlabel('Epochs')\n",
    "plt.ylabel('Loss')\n",
    "plt.legend(['train', 'test'], loc='upper left')\n",
    "plt.show()"
   ]
  },
  {
   "cell_type": "code",
   "execution_count": 13,
   "metadata": {},
   "outputs": [
    {
     "data": {
      "image/png": "[encoded data removed]",
      "text/plain": [
       "<Figure size 1296x720 with 2 Axes>"
      ]
     },
     "metadata": {
      "needs_background": "light"
     },
     "output_type": "display_data"
    }
   ],
   "source": [
    "# Plot the loss and accuracy curves for training and validation \n",
    "fig, ax = plt.subplots(2,1, figsize=(18, 10))\n",
    "ax[0].plot(hist.history['loss'], color='b', label=\"Training loss\")\n",
    "ax[0].plot(hist.history['val_loss'], color='r', label=\"validation loss\",axes =ax[0])\n",
    "legend = ax[0].legend(loc='best', shadow=True)\n",
    "\n",
    "ax[1].plot(hist.history['accuracy'], color='b', label=\"Training accuracy\")\n",
    "ax[1].plot(hist.history['val_accuracy'], color='r',label=\"Validation accuracy\")\n",
    "legend = ax[1].legend(loc='best', shadow=True)"
   ]
  },
  {
   "cell_type": "markdown",
   "metadata": {},
   "source": [
    "Model Evaluation"
   ]
  },
  {
   "cell_type": "code",
   "execution_count": 14,
   "metadata": {},
   "outputs": [
    {
     "name": "stdout",
     "output_type": "stream",
     "text": [
      "238/238 [==============================] - 32s 136ms/step - loss: 0.4045 - accuracy: 0.8429\n",
      "57/57 [==============================] - 6s 102ms/step - loss: 0.4475 - accuracy: 0.8236\n",
      "final train accuracy = 84.29 , validation accuracy = 82.36\n"
     ]
    }
   ],
   "source": [
    "train_loss, train_accu = model.evaluate(training_set)\n",
    "test_loss, test_accu = model.evaluate(test_set)\n",
    "print(\"final train accuracy = {:.2f} , validation accuracy = {:.2f}\".format(train_accu*100, test_accu*100))"
   ]
  },
  {
   "cell_type": "code",
   "execution_count": 15,
   "metadata": {},
   "outputs": [],
   "source": [
    "model.save_weights('model_bestweight_0_2.h5')\n",
    "model.save('model_best_0_2.h5')"
   ]
  },
  {
   "cell_type": "markdown",
   "metadata": {},
   "source": [
    "Confusion Matrix and Classification on training set"
   ]
  },
  {
   "cell_type": "code",
   "execution_count": 65,
   "metadata": {},
   "outputs": [],
   "source": [
    "per = np.random.permutation(training_set.n)\n",
    "training_set.index_array = per\n",
    "classes = training_set.classes[per]"
   ]
  },
  {
   "cell_type": "code",
   "execution_count": 61,
   "metadata": {},
   "outputs": [
    {
     "data": {
      "text/plain": [
       "array([1, 1, 1, ..., 0, 1, 1])"
      ]
     },
     "execution_count": 61,
     "metadata": {},
     "output_type": "execute_result"
    }
   ],
   "source": [
    "classes"
   ]
  },
  {
   "cell_type": "code",
   "execution_count": 62,
   "metadata": {
    "scrolled": false
   },
   "outputs": [
    {
     "name": "stdout",
     "output_type": "stream",
     "text": [
      "Confusion Matrix\n",
      "[[2865  274  721]\n",
      " [ 211 6157  354]\n",
      " [ 510  375 3763]]\n",
      "Classification Report\n",
      "              precision    recall  f1-score   support\n",
      "\n",
      "       angry       0.80      0.74      0.77      3860\n",
      "       happy       0.90      0.92      0.91      6722\n",
      "     neutral       0.78      0.81      0.79      4648\n",
      "\n",
      "    accuracy                           0.84     15230\n",
      "   macro avg       0.83      0.82      0.82     15230\n",
      "weighted avg       0.84      0.84      0.84     15230\n",
      "\n"
     ]
    },
    {
     "data": {
      "image/png": "[encoded data removed]",
      "text/plain": [
       "<Figure size 360x360 with 1 Axes>"
      ]
     },
     "metadata": {
      "needs_background": "light"
     },
     "output_type": "display_data"
    }
   ],
   "source": [
    "import seaborn as sns\n",
    "from sklearn.metrics import confusion_matrix\n",
    "model = load_model('model_best_0_2.h5')\n",
    "fig = plt.figure(figsize=(5, 5))\n",
    "\n",
    "#Confution Matrix and Classification Report\n",
    "class_labels = training_set.class_indices\n",
    "class_labels = {v:k for k,v in class_labels.items()}\n",
    "y_pred = model.predict(training_set) \n",
    "y_pred = np.argmax(y_pred, axis=1)\n",
    "mat = confusion_matrix(classes, y_pred) # Confusion matrix\n",
    "print('Confusion Matrix')\n",
    "print(mat)\n",
    "print('Classification Report')\n",
    "target_names = list(class_labels.values())\n",
    "print(classification_report(classes, y_pred, target_names=target_names))\n",
    "\n",
    "\n",
    "\n",
    "# Plot Confusion matrix\n",
    "sns.heatmap(mat.T, square=True, annot=True, cbar=False, cmap=plt.cm.Blues)\n",
    "plt.xlabel('Predicted Values')\n",
    "plt.ylabel('True Values');\n",
    "plt.show();"
   ]
  },
  {
   "cell_type": "code",
   "execution_count": 66,
   "metadata": {},
   "outputs": [
    {
     "name": "stdout",
     "output_type": "stream",
     "text": [
      "Confusion Matrix\n",
      "[[2849  280  731]\n",
      " [ 211 6162  349]\n",
      " [ 485  392 3771]]\n",
      "Classification Report\n",
      "              precision    recall  f1-score   support\n",
      "\n",
      "       angry       0.80      0.74      0.77      3860\n",
      "       happy       0.90      0.92      0.91      6722\n",
      "     neutral       0.78      0.81      0.79      4648\n",
      "\n",
      "    accuracy                           0.84     15230\n",
      "   macro avg       0.83      0.82      0.82     15230\n",
      "weighted avg       0.84      0.84      0.84     15230\n",
      "\n"
     ]
    },
    {
     "data": {
      "image/png": "[encoded data removed]",
      "text/plain": [
       "<Figure size 576x576 with 2 Axes>"
      ]
     },
     "metadata": {
      "needs_background": "light"
     },
     "output_type": "display_data"
    }
   ],
   "source": [
    "y_pred = model.predict(training_set)\n",
    "y_pred = np.argmax(y_pred, axis=1)\n",
    "class_labels = training_set.class_indices\n",
    "class_labels = {v:k for k,v in class_labels.items()}\n",
    "\n",
    "from sklearn.metrics import classification_report, confusion_matrix\n",
    "cm_train = confusion_matrix(classes, y_pred)\n",
    "print('Confusion Matrix')\n",
    "print(cm_train)\n",
    "print('Classification Report')\n",
    "target_names = list(class_labels.values())\n",
    "print(classification_report(classes, y_pred, target_names=target_names))\n",
    "\n",
    "plt.figure(figsize=(8,8))\n",
    "plt.imshow(cm_train, interpolation='nearest')\n",
    "plt.colorbar()\n",
    "tick_mark = np.arange(len(target_names))\n",
    "_ = plt.xticks(tick_mark, target_names, rotation=90)\n",
    "_ = plt.yticks(tick_mark, target_names)"
   ]
  },
  {
   "cell_type": "markdown",
   "metadata": {},
   "source": [
    "Confusion Matrix and Classification on test set"
   ]
  },
  {
   "cell_type": "code",
   "execution_count": 54,
   "metadata": {},
   "outputs": [],
   "source": [
    "per = np.random.permutation(test_set.n)\n",
    "test_set.index_array = per\n",
    "classes = test_set.classes[per]"
   ]
  },
  {
   "cell_type": "code",
   "execution_count": 55,
   "metadata": {
    "scrolled": false
   },
   "outputs": [
    {
     "name": "stdout",
     "output_type": "stream",
     "text": [
      "Confusion Matrix\n",
      "[[ 658   57  192]\n",
      " [  88 1433  100]\n",
      " [ 120   83  898]]\n",
      "Classification Report\n",
      "              precision    recall  f1-score   support\n",
      "\n",
      "       angry       0.76      0.73      0.74       907\n",
      "       happy       0.91      0.88      0.90      1621\n",
      "     neutral       0.75      0.82      0.78      1101\n",
      "\n",
      "    accuracy                           0.82      3629\n",
      "   macro avg       0.81      0.81      0.81      3629\n",
      "weighted avg       0.83      0.82      0.82      3629\n",
      "\n"
     ]
    },
    {
     "data": {
      "image/png": "[encoded data removed]",
      "text/plain": [
       "<Figure size 576x576 with 2 Axes>"
      ]
     },
     "metadata": {
      "needs_background": "light"
     },
     "output_type": "display_data"
    }
   ],
   "source": [
    "y_pred = model.predict(test_set)\n",
    "y_pred = np.argmax(y_pred, axis=1)\n",
    "class_labels = test_set.class_indices\n",
    "class_labels = {v:k for k,v in class_labels.items()}\n",
    "\n",
    "#from sklearn.metrics import classification_report, confusion_matrix\n",
    "cm_test = confusion_matrix(classes, y_pred)\n",
    "print('Confusion Matrix')\n",
    "print(cm_test)\n",
    "print('Classification Report')\n",
    "target_names = list(class_labels.values())\n",
    "print(classification_report(classes, y_pred, target_names=target_names))\n",
    "\n",
    "plt.figure(figsize=(8,8))\n",
    "plt.imshow(cm_test, interpolation='nearest')\n",
    "plt.colorbar()\n",
    "tick_mark = np.arange(len(target_names))\n",
    "_ = plt.xticks(tick_mark, target_names, rotation=90)\n",
    "_ = plt.yticks(tick_mark, target_names)"
   ]
  },
  {
   "cell_type": "markdown",
   "metadata": {},
   "source": [
    "### AUC Curve"
   ]
  },
  {
   "cell_type": "code",
   "execution_count": 34,
   "metadata": {
    "scrolled": false
   },
   "outputs": [
    {
     "name": "stderr",
     "output_type": "stream",
     "text": [
      "C:\\Users\\kheed\\AppData\\Roaming\\Python\\Python37\\site-packages\\tensorflow\\python\\keras\\engine\\training.py:1905: UserWarning: `Model.predict_generator` is deprecated and will be removed in a future version. Please use `Model.predict`, which supports generators.\n",
      "  warnings.warn('`Model.predict_generator` is deprecated and '\n"
     ]
    },
    {
     "name": "stdout",
     "output_type": "stream",
     "text": [
      "57/57 [==============================] - 6s 102ms/step\n"
     ]
    },
    {
     "data": {
      "text/plain": [
       "0.5062778684995716"
      ]
     },
     "execution_count": 34,
     "metadata": {},
     "output_type": "execute_result"
    },
    {
     "data": {
      "image/png": "[encoded data removed]",
      "text/plain": [
       "<Figure size 864x576 with 1 Axes>"
      ]
     },
     "metadata": {
      "needs_background": "light"
     },
     "output_type": "display_data"
    }
   ],
   "source": [
    "from sklearn.preprocessing import LabelBinarizer\n",
    "from sklearn.metrics import roc_curve, roc_auc_score, auc\n",
    "\n",
    "EMOTIONS = ['angry',  'happy', 'neutral'] # , 'sad', 'surprise']\n",
    "fig, c_ax = plt.subplots(1,1, figsize = (12, 8))\n",
    "def multiclass_roc_auc_score(y_test, y_pred, average=\"macro\"):\n",
    "    lb = LabelBinarizer()\n",
    "    lb.fit(y_test)\n",
    "    y_test = lb.transform(y_test)\n",
    "    y_pred = lb.transform(y_pred)\n",
    "\n",
    "    for (idx, c_label) in enumerate(EMOTIONS): # all_labels: no of the labels\n",
    "        fpr, tpr, thresholds = roc_curve(y_test[:,idx].astype(int), y_pred[:,idx])\n",
    "        c_ax.plot(fpr, tpr, label = '%s (AUC:%0.2f)'  % (c_label, auc(fpr, tpr)))\n",
    "    c_ax.plot(fpr, fpr, 'b-', label = 'Random Guessing')\n",
    "    return roc_auc_score(y_test, y_pred, average=average)\n",
    "\n",
    "# calling\n",
    "test_set.reset() # resetting generator\n",
    "y_pred = model.predict_generator(test_set, verbose = True)\n",
    "y_pred = np.argmax(y_pred, axis=1)\n",
    "multiclass_roc_auc_score(test_set.classes, y_pred)"
   ]
  },
  {
   "cell_type": "markdown",
   "metadata": {},
   "source": [
    "# 단일 사진 결과 확인"
   ]
  },
  {
   "cell_type": "code",
   "execution_count": 36,
   "metadata": {
    "colab": {
     "base_uri": "https://localhost:8080/",
     "height": 464
    },
    "executionInfo": {
     "elapsed": 3224,
     "status": "error",
     "timestamp": 1616042602948,
     "user": {
      "displayName": "김도희",
      "photoUrl": "",
      "userId": "10132062117470386363"
     },
     "user_tz": -540
    },
    "id": "I17bsrawFQ8B",
    "outputId": "6533194d-9762-41c5-821d-a497fa1de839"
   },
   "outputs": [
    {
     "name": "stdout",
     "output_type": "stream",
     "text": [
      "[[182 146 471 471]]\n"
     ]
    }
   ],
   "source": [
    "from keras.preprocessing.image import img_to_array\n",
    "from keras.models import load_model\n",
    "import cv2\n",
    "import numpy as np\n",
    "import sys\n",
    "import time\n",
    "#from google.colab.patches import cv2_imshow\n",
    " \n",
    "# parameters for loading data and images\n",
    "detection_model_path = 'haarcascade_files/haarcascade_frontalface_default.xml'\n",
    "#emotion_model_path = 'ferNet.h5'\n",
    "emotion_model_path = 'model_best_0_2.h5'\n",
    "img_path =  \"angry.jpg\" # sys.argv[1]\n",
    " \n",
    "# hyper-parameters for bounding boxes shape\n",
    "# loading models\n",
    "face_detection = cv2.CascadeClassifier(detection_model_path)\n",
    "emotion_classifier = load_model(emotion_model_path, compile=False)\n",
    "EMOTIONS = ['angry',  'happy', 'neutral'] # , 'sad', 'surprise']\n",
    " \n",
    "# reading the frame\n",
    "orig_frame = cv2.imread(img_path)\n",
    "#print(img_path)\n",
    "#print(orig_frame)\n",
    "frame = cv2.imread(img_path,0)\n",
    "#print(frame)\n",
    "faces = face_detection.detectMultiScale(frame,scaleFactor=1.1,minNeighbors=5,minSize=(30,30),flags=cv2.CASCADE_SCALE_IMAGE)\n",
    " \n",
    "if len(faces) > 0:\n",
    "    print(faces)\n",
    "    faces = sorted(faces, reverse=True,key=lambda x: (x[2] - x[0]) * (x[3] - x[1]))[0]\n",
    "    (fX, fY, fW, fH) = faces\n",
    "    roi = frame[fY:fY + fH, fX:fX + fW]\n",
    "    roi = cv2.resize(roi, (48, 48))\n",
    "    roi = roi.astype(\"float\") / 255.0\n",
    "    roi = img_to_array(roi)\n",
    "    roi = np.expand_dims(roi, axis=0)\n",
    "    preds = emotion_classifier.predict(roi)[0]\n",
    "    emotion_probability = np.max(preds)\n",
    "    label = EMOTIONS[preds.argmax()]\n",
    "    cv2.putText(orig_frame, label, (fX, fY - 10), cv2.FONT_HERSHEY_SIMPLEX, 0.45, (0, 0, 255), 2)\n",
    "    cv2.rectangle(orig_frame, (fX, fY), (fX + fW, fY + fH),(0, 0, 255), 2)\n",
    " \n",
    "cv2.imshow('test_face', orig_frame)\n",
    "#cv2_imshow(orig_frame)\n",
    "cv2.imwrite('test_output/'+img_path.split('/')[-1],orig_frame)\n",
    "if (cv2.waitKey(0) and 0xFF == ord('q')):\n",
    "    sys.exit(\"Thanks\")\n",
    "cv2.destroyAllWindows()"
   ]
  },
  {
   "cell_type": "code",
   "execution_count": null,
   "metadata": {},
   "outputs": [],
   "source": [
    "roi.shape"
   ]
  },
  {
   "cell_type": "markdown",
   "metadata": {},
   "source": [
    "# 실시간 영상을 통한 결과 확인"
   ]
  },
  {
   "cell_type": "code",
   "execution_count": 37,
   "metadata": {
    "executionInfo": {
     "elapsed": 4611,
     "status": "ok",
     "timestamp": 1616042544146,
     "user": {
      "displayName": "김도희",
      "photoUrl": "",
      "userId": "10132062117470386363"
     },
     "user_tz": -540
    },
    "id": "-YP916SJFQ8F"
   },
   "outputs": [],
   "source": [
    "from statistics import mode\n",
    "\n",
    "import cv2\n",
    "from keras.models import load_model\n",
    "import numpy as np\n",
    "\n",
    "from utils.datasets import get_labels\n",
    "from utils.inference import detect_faces\n",
    "from utils.inference import draw_text\n",
    "from utils.inference import draw_bounding_box\n",
    "from utils.inference import apply_offsets\n",
    "from utils.inference import load_detection_model\n",
    "from utils.preprocessor import preprocess_input\n",
    "\n",
    "# parameters for loading data and images\n",
    "detection_model_path = 'haarcascade_files/haarcascade_frontalface_default.xml'\n",
    "emotion_model_path = 'model_best_0_2.h5'\n",
    "emotion_labels = ['angry',  'happy', 'neutral'] # ['angry', 'disgust', 'fear', 'happy', 'neutral', 'sad', 'surprise']\n",
    "\n",
    "# hyper-parameters for bounding boxes shape\n",
    "frame_window = 10\n",
    "emotion_offsets = (20, 40)\n",
    "\n",
    "# loading models\n",
    "face_detection = load_detection_model(detection_model_path)\n",
    "emotion_classifier = load_model(emotion_model_path, compile=False)\n",
    "\n",
    "# getting input model shapes for inference\n",
    "emotion_target_size = emotion_classifier.input_shape[1:3]\n",
    "\n",
    "# starting lists for calculating modes\n",
    "emotion_window = []"
   ]
  },
  {
   "cell_type": "code",
   "execution_count": 38,
   "metadata": {},
   "outputs": [
    {
     "data": {
      "text/plain": [
       "<CascadeClassifier 000001D60E617550>"
      ]
     },
     "execution_count": 38,
     "metadata": {},
     "output_type": "execute_result"
    }
   ],
   "source": [
    "face_detection"
   ]
  },
  {
   "cell_type": "code",
   "execution_count": 39,
   "metadata": {},
   "outputs": [
    {
     "data": {
      "text/plain": [
       "['angry', 'happy', 'neutral']"
      ]
     },
     "execution_count": 39,
     "metadata": {},
     "output_type": "execute_result"
    }
   ],
   "source": [
    "emotion_labels"
   ]
  },
  {
   "cell_type": "code",
   "execution_count": 40,
   "metadata": {
    "id": "z9PeMS4ynLxz"
   },
   "outputs": [],
   "source": [
    "from keras.preprocessing.image import img_to_array\n",
    "\n",
    "# starting video streaming\n",
    "cv2.namedWindow('window_frame')\n",
    "video_capture = cv2.VideoCapture(0)\n",
    "while True:\n",
    "    bgr_image = video_capture.read()[1]\n",
    "    gray_image = cv2.cvtColor(bgr_image, cv2.COLOR_BGR2GRAY)\n",
    "    rgb_image = cv2.cvtColor(bgr_image, cv2.COLOR_BGR2RGB)\n",
    "    faces = detect_faces(face_detection, gray_image)\n",
    "    \n",
    "    for face_coordinates in faces:\n",
    "\n",
    "        x1, x2, y1, y2 = apply_offsets(face_coordinates, emotion_offsets)\n",
    "        gray_face = gray_image[y1:y2, x1:x2]\n",
    "        try:\n",
    "            gray_face = cv2.resize(gray_face, (emotion_target_size))\n",
    "        except:\n",
    "            continue\n",
    "\n",
    "        gray_face = preprocess_input(gray_face, True)\n",
    "        gray_face = np.expand_dims(gray_face, 0)\n",
    "        gray_face = np.expand_dims(gray_face, -1)\n",
    "        emotion_prediction = emotion_classifier.predict(gray_face)\n",
    "        emotion_probability = np.max(emotion_prediction)\n",
    "        emotion_label_arg = np.argmax(emotion_prediction)\n",
    "        emotion_text = emotion_labels[emotion_label_arg]\n",
    "        emotion_window.append(emotion_text)\n",
    "\n",
    "        if len(emotion_window) > frame_window:\n",
    "            emotion_window.pop(0)\n",
    "        try:\n",
    "            emotion_mode = mode(emotion_window)\n",
    "        except:\n",
    "            continue\n",
    "\n",
    "        if emotion_text == 'angry':\n",
    "            color = emotion_probability * np.asarray((255, 0, 0))\n",
    "        elif emotion_text == 'happy':\n",
    "            color = emotion_probability * np.asarray((0, 0, 255))\n",
    "        elif emotion_text == 'neutral':\n",
    "            color = emotion_probability * np.asarray((255, 255, 0))\n",
    "        elif emotion_text == 'sad':\n",
    "            color = emotion_probability * np.asarray((0, 255, 255))\n",
    "        else:\n",
    "            color = emotion_probability * np.asarray((0, 255, 0))\n",
    "\n",
    "        color = color.astype(int)\n",
    "        color = color.tolist()\n",
    "\n",
    "        draw_bounding_box(face_coordinates, rgb_image, color)\n",
    "        if emotion_probability >= 0.7:\n",
    "            draw_text(face_coordinates, rgb_image, emotion_mode,\n",
    "                      color, 0, -45, 1, 1)\n",
    "        draw_text(face_coordinates, rgb_image, str(emotion_labels[0])+' : '+str(round(emotion_prediction[0][0],2)),\n",
    "                  [0, 99, 99], 250, 10, 1, 1)\n",
    "        draw_text(face_coordinates, rgb_image, str(emotion_labels[1])+' : '+str(round(emotion_prediction[0][1],2)),\n",
    "                  [99, 0, 99], 250, 60, 1, 1)\n",
    "        draw_text(face_coordinates, rgb_image, str(emotion_labels[2])+' : '+str(round(emotion_prediction[0][2],2)),\n",
    "                  [0, 99, 0], 250, 110, 1, 1)\n",
    "        #draw_text(face_coordinates, rgb_image, str(emotion_labels[3])+' : '+str(round(emotion_prediction[0][6],2)),\n",
    "        #          [0, 0, 0], 250, 160, 1, 1)\n",
    "        \n",
    "        \n",
    "        \n",
    "    bgr_image = cv2.cvtColor(rgb_image, cv2.COLOR_RGB2BGR)\n",
    "    cv2.imshow('window_frame', bgr_image)\n",
    "    if cv2.waitKey(1) & 0xFF == ord('q'):\n",
    "        break\n",
    "\n",
    "video_capture.release()\n",
    "cv2.destroyAllWindows()"
   ]
  },
  {
   "cell_type": "code",
   "execution_count": 24,
   "metadata": {},
   "outputs": [
    {
     "data": {
      "text/plain": [
       "array([[0.18659161, 0.0593199 , 0.7540885 ]], dtype=float32)"
      ]
     },
     "execution_count": 24,
     "metadata": {},
     "output_type": "execute_result"
    }
   ],
   "source": [
    "emotion_prediction"
   ]
  },
  {
   "cell_type": "code",
   "execution_count": null,
   "metadata": {},
   "outputs": [],
   "source": []
  }
 ],
 "metadata": {
  "kernelspec": {
   "display_name": "Python [conda env:tensor]",
   "language": "python",
   "name": "conda-env-tensor-py"
  },
  "language_info": {
   "codemirror_mode": {
    "name": "ipython",
    "version": 3
   },
   "file_extension": ".py",
   "mimetype": "text/x-python",
   "name": "python",
   "nbconvert_exporter": "python",
   "pygments_lexer": "ipython3",
   "version": "3.7.10"
  }
 },
 "nbformat": 4,
 "nbformat_minor": 2
}
